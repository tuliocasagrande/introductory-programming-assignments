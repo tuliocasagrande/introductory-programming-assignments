{
 "cells": [
  {
   "cell_type": "markdown",
   "metadata": {},
   "source": [
    "# Introductory Programming Assignments\n",
    "\n",
    "\n",
    "## Polygons Exercises\n",
    "\n",
    "\n",
    "### Draw a horizontal line\n",
    "Given a number n, print n asterisks on one line. Example when n=8:\n",
    "```\n",
    "********\n",
    "```"
   ]
  },
  {
   "cell_type": "code",
   "execution_count": 1,
   "metadata": {},
   "outputs": [
    {
     "name": "stdout",
     "output_type": "stream",
     "text": [
      "********\n"
     ]
    }
   ],
   "source": [
    "def print_hline(n):\n",
    "    print('*' * n)\n",
    "\n",
    "print_hline(8)"
   ]
  },
  {
   "cell_type": "markdown",
   "metadata": {},
   "source": [
    "### Draw a vertical line\n",
    "Given a number n, print n lines, each with one asterisk. Example when n=3:\n",
    "```\n",
    "*\n",
    "*\n",
    "*\n",
    "```"
   ]
  },
  {
   "cell_type": "code",
   "execution_count": 2,
   "metadata": {},
   "outputs": [
    {
     "name": "stdout",
     "output_type": "stream",
     "text": [
      "*\n",
      "*\n",
      "*\n"
     ]
    }
   ],
   "source": [
    "def print_vline(n):\n",
    "    print('*\\n' * n, end='')\n",
    "\n",
    "print_vline(3)"
   ]
  },
  {
   "cell_type": "markdown",
   "metadata": {},
   "source": [
    "### Draw a right triangle\n",
    "Given a number n, print n lines, each with one more asterisk than the last (i.e. one on the first line, two on the second,etc.). Example when n=3:\n",
    "```\n",
    "*\n",
    "**\n",
    "***\n",
    "```"
   ]
  },
  {
   "cell_type": "code",
   "execution_count": 3,
   "metadata": {},
   "outputs": [
    {
     "name": "stdout",
     "output_type": "stream",
     "text": [
      "*\n",
      "**\n",
      "***\n"
     ]
    }
   ],
   "source": [
    "def print_right_triangle(n):\n",
    "    for i in range(1, n + 1):\n",
    "        print_hline(i)\n",
    "\n",
    "print_right_triangle(3)"
   ]
  },
  {
   "cell_type": "markdown",
   "metadata": {},
   "source": [
    "### Isosceles Triangle\n",
    "Given a number n, print a centered triangle. Example for n=3:\n",
    "```\n",
    "  *\n",
    " ***\n",
    "*****\n",
    "```"
   ]
  },
  {
   "cell_type": "code",
   "execution_count": 4,
   "metadata": {},
   "outputs": [
    {
     "name": "stdout",
     "output_type": "stream",
     "text": [
      "  *\n",
      " ***\n",
      "*****\n"
     ]
    }
   ],
   "source": [
    "def print_iso_triangle(n):\n",
    "    for i in range(1, n + 1):\n",
    "        spaces = ' ' * (n - i)\n",
    "        asterisks = '*' * (2 * i - 1)\n",
    "        print(spaces + asterisks)\n",
    "\n",
    "print_iso_triangle(3)"
   ]
  },
  {
   "cell_type": "markdown",
   "metadata": {},
   "source": [
    "### Diamond\n",
    "Given a number n, print a centered diamond. Example for n=3:\n",
    "```\n",
    "  *\n",
    " ***\n",
    "*****\n",
    " ***\n",
    "  *\n",
    "```"
   ]
  },
  {
   "cell_type": "code",
   "execution_count": 5,
   "metadata": {},
   "outputs": [
    {
     "name": "stdout",
     "output_type": "stream",
     "text": [
      "  *\n",
      " ***\n",
      "*****\n",
      " ***\n",
      "  *\n"
     ]
    }
   ],
   "source": [
    "def print_diamond(n):\n",
    "    for i in range(1, n + 1):\n",
    "        spaces = ' ' * (n - i)\n",
    "        asterisks = '*' * (2 * i - 1)\n",
    "        print(spaces + asterisks)\n",
    "\n",
    "    for i in range(n - 1, 0, -1):\n",
    "        spaces = ' ' * (n - i)\n",
    "        asterisks = '*' * (2 * i - 1)\n",
    "        print(spaces + asterisks)\n",
    "\n",
    "print_diamond(3)"
   ]
  },
  {
   "cell_type": "markdown",
   "metadata": {},
   "source": [
    "### Diamond with Name\n",
    "Given a number n, print a centered diamond with your name in place of the middle line. Example for n=3:\n",
    "```\n",
    "  *\n",
    " ***\n",
    "Bill\n",
    " ***\n",
    "  *\n",
    "```"
   ]
  },
  {
   "cell_type": "code",
   "execution_count": 6,
   "metadata": {},
   "outputs": [
    {
     "name": "stdout",
     "output_type": "stream",
     "text": [
      "  *\n",
      " ***\n",
      "Tulio\n",
      " ***\n",
      "  *\n"
     ]
    }
   ],
   "source": [
    "def print_diamond_with_name(n, name):\n",
    "    for i in range(1, n):\n",
    "        spaces = ' ' * (n - i)\n",
    "        asterisks = '*' * (2 * i - 1)\n",
    "        print(spaces + asterisks)\n",
    "\n",
    "    print(name)\n",
    "\n",
    "    for i in range(n - 1, 0, -1):\n",
    "        spaces = ' ' * (n - i)\n",
    "        asterisks = '*' * (2 * i - 1)\n",
    "        print(spaces + asterisks)\n",
    "\n",
    "print_diamond_with_name(3, 'Tulio')"
   ]
  },
  {
   "cell_type": "markdown",
   "metadata": {},
   "source": [
    "### Draw a square\n",
    "Given a number n, print a square with side n. In order to give your square a nicer aspect ratio, intercalate the horizontal lines with asterisks and whitespaces. Example when n=4:\n",
    "```\n",
    "* * * *\n",
    "*     *\n",
    "*     *\n",
    "* * * *\n",
    "```"
   ]
  },
  {
   "cell_type": "code",
   "execution_count": 7,
   "metadata": {},
   "outputs": [
    {
     "name": "stdout",
     "output_type": "stream",
     "text": [
      "* * * * \n",
      "*     *\n",
      "*     *\n",
      "* * * * \n"
     ]
    }
   ],
   "source": [
    "def square(n):\n",
    "    for i in range(1, n + 1):\n",
    "        if i == 1 or i == n:\n",
    "            print('* ' * n)\n",
    "        else:\n",
    "            print('*' + ' ' * (2 * n - 3) + '*')\n",
    "\n",
    "square(4)"
   ]
  },
  {
   "cell_type": "markdown",
   "metadata": {},
   "source": [
    "### Draw a diagonal\n",
    "Given a number n, print a diagonal of lenght n. Example when n=5:\n",
    "\n",
    "```\n",
    "*\n",
    " *\n",
    "  *\n",
    "   *\n",
    "    *\n",
    "```"
   ]
  },
  {
   "cell_type": "code",
   "execution_count": 8,
   "metadata": {},
   "outputs": [
    {
     "name": "stdout",
     "output_type": "stream",
     "text": [
      "*\n",
      " *\n",
      "  *\n",
      "   *\n",
      "    *\n"
     ]
    }
   ],
   "source": [
    "def diagonal(n):\n",
    "    for i in range(n):\n",
    "        print(' ' * i + '*')\n",
    "\n",
    "diagonal(5)"
   ]
  },
  {
   "cell_type": "markdown",
   "metadata": {},
   "source": [
    "### Draw an reverse diagonal\n",
    "Given a number n, print an reverse diagonal of lenght n. Example when n=5:\n",
    "\n",
    "```\n",
    "    *\n",
    "   *\n",
    "  *\n",
    " *\n",
    "*\n",
    "```"
   ]
  },
  {
   "cell_type": "code",
   "execution_count": 9,
   "metadata": {},
   "outputs": [
    {
     "name": "stdout",
     "output_type": "stream",
     "text": [
      "    *\n",
      "   *\n",
      "  *\n",
      " *\n",
      "*\n"
     ]
    }
   ],
   "source": [
    "def reverse_diagonal(n):\n",
    "    for i in range(n - 1, -1, -1):\n",
    "        print(' ' * i + '*')\n",
    "\n",
    "reverse_diagonal(5)"
   ]
  },
  {
   "cell_type": "markdown",
   "metadata": {},
   "source": [
    "### X marks the spot\n",
    "Given a number n, print an X of size n. Assume n is odd. Example when n=5:\n",
    "```\n",
    "*   *\n",
    " * *\n",
    "  *\n",
    " * *\n",
    "*   *\n",
    "```"
   ]
  },
  {
   "cell_type": "code",
   "execution_count": 10,
   "metadata": {},
   "outputs": [
    {
     "name": "stdout",
     "output_type": "stream",
     "text": [
      "*   *\n",
      " * *\n",
      "  *\n",
      " * *\n",
      "*   *\n"
     ]
    }
   ],
   "source": [
    "def x_marks_the_spot(n):\n",
    "    h = n // 2\n",
    "    for i in range(0, h):\n",
    "        middle_spaces = ' ' * (n - 2 - i * 2)\n",
    "        print(' ' * i + '*' + middle_spaces + '*')\n",
    "\n",
    "    print(' ' * h + '*')\n",
    "\n",
    "    for i in range(h - 1, -1, -1):\n",
    "        middle_spaces = ' ' * (n - 2 - i * 2)\n",
    "        print(' ' * i + '*' + middle_spaces + '*')\n",
    "\n",
    "x_marks_the_spot(5)"
   ]
  },
  {
   "cell_type": "markdown",
   "metadata": {},
   "source": [
    "## FizzBuzz Exercise\n",
    "FizzBuzz is a simple number game where you count, but say \"Fizz\" and/or \"Buzz\" instead of numbers adhering to certain rules.\n",
    "\n",
    "Create a `fizz_buzz()` method that prints out the numbers 1 through 100.\n",
    "- Instead of numbers divisible by three print \"Fizz\".\n",
    "- Instead of numbers divisible by five print \"Buzz\".\n",
    "- Instead of numbers divisible by three and five print \"FizzBuzz\".\n",
    "\n",
    "Sample Output:\n",
    "```\n",
    "1\n",
    "2\n",
    "Fizz\n",
    "4\n",
    "Buzz\n",
    "Fizz\n",
    "7\n",
    "8\n",
    "Fizz\n",
    "Buzz\n",
    "11\n",
    "Fizz\n",
    "13\n",
    "14\n",
    "FizzBuzz\n",
    "```"
   ]
  },
  {
   "cell_type": "code",
   "execution_count": 11,
   "metadata": {},
   "outputs": [
    {
     "name": "stdout",
     "output_type": "stream",
     "text": [
      "1\n",
      "2\n",
      "Fizz\n",
      "4\n",
      "Buzz\n",
      "Fizz\n",
      "7\n",
      "8\n",
      "Fizz\n",
      "Buzz\n",
      "11\n",
      "Fizz\n",
      "13\n",
      "14\n",
      "FizzBuzz\n"
     ]
    }
   ],
   "source": [
    "def fizz_buzz(n):\n",
    "    for i in range(1, n + 1):\n",
    "        if i % 3 == 0 and i % 5 == 0:\n",
    "            print('FizzBuzz')\n",
    "        elif i % 3 == 0:\n",
    "            print('Fizz')\n",
    "        elif i % 5 == 0:\n",
    "            print('Buzz')\n",
    "        else:\n",
    "            print(i)\n",
    "\n",
    "fizz_buzz(15)"
   ]
  },
  {
   "cell_type": "markdown",
   "metadata": {},
   "source": [
    "## Prime Factors Exercise\n",
    "Write a method `generate(n)` that given an integer N will return a list of integers such that the numbers are the factors of N and are arranged in increasing numerical order.\n",
    "\n",
    "For example, `generate(1)` should return an empty list and `generate(30)` should return the numbers: `2,3,5`."
   ]
  },
  {
   "cell_type": "code",
   "execution_count": 12,
   "metadata": {},
   "outputs": [
    {
     "name": "stdout",
     "output_type": "stream",
     "text": [
      "[]\n",
      "[5]\n",
      "[2, 3, 5]\n",
      "[2, 5, 5]\n",
      "[2, 2, 2, 2, 5]\n"
     ]
    }
   ],
   "source": [
    "def generate(n):\n",
    "    factors = []\n",
    "    i = 2\n",
    "    while i <= n:\n",
    "        while n % i == 0:\n",
    "            factors.append(i)\n",
    "            n //= i\n",
    "        i += 1\n",
    "\n",
    "    return factors\n",
    "\n",
    "print(generate(1))\n",
    "print(generate(5))\n",
    "print(generate(30))\n",
    "print(generate(50))\n",
    "print(generate(80))"
   ]
  }
 ],
 "metadata": {
  "kernelspec": {
   "display_name": "Python 3",
   "language": "python",
   "name": "python3"
  },
  "language_info": {
   "codemirror_mode": {
    "name": "ipython",
    "version": 3
   },
   "file_extension": ".py",
   "mimetype": "text/x-python",
   "name": "python",
   "nbconvert_exporter": "python",
   "pygments_lexer": "ipython3",
   "version": "3.6.2"
  }
 },
 "nbformat": 4,
 "nbformat_minor": 2
}
